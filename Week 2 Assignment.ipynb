{
 "cells": [
  {
   "cell_type": "markdown",
   "id": "dbda6db3-1638-4ce3-8897-5040e34dcdb4",
   "metadata": {},
   "source": [
    "# Question 1\n",
    "\n",
    "There are two ways to comment code in python.\n",
    "## Single line comment \n",
    "The syntax is <br>\n",
    " #This is a single line comment\n",
    "\n",
    "## Multi line comment\n",
    "\n",
    "The syntax is\n",
    "\n",
    "'''\n",
    "this is how <br>\n",
    "we do multi line <br>\n",
    "comment in python.\n",
    "\n",
    "'''"
   ]
  },
  {
   "cell_type": "markdown",
   "id": "0f9a20ef-9b93-43d3-9e67-ab121b3fe73e",
   "metadata": {},
   "source": [
    "# Question 2\n",
    "\n",
    "Variables are objects which contains ant type of data based on the definition while initing the variable.\n",
    "\n",
    "For example \n",
    "var1= 2 // this definition ensures that var1 contains an integer value ofv2\n",
    "var2= 'python' // this is string\n",
    "\n",
    "while declaring a vaiable python on runtime determines the types of variables and keeps the information in memory.\n",
    "\n",
    "The \"equal to\" operator (=) is used to assign the value to a variable in python as captured above in the examples.\n"
   ]
  },
  {
   "cell_type": "markdown",
   "id": "7d132e59-025c-4df2-aae1-d18bc8f0ae92",
   "metadata": {},
   "source": [
    "# Question 3\n",
    "\n",
    "Using the typecast functionality one datatype can be convertedd to other type."
   ]
  },
  {
   "cell_type": "code",
   "execution_count": 8,
   "id": "a8d237f0-8193-47d5-aca7-52107bbd04dc",
   "metadata": {},
   "outputs": [],
   "source": [
    "# for example\n",
    "a= 2.3\n",
    "b=str(a) # variable \"b\" will store 2.3 as string."
   ]
  },
  {
   "cell_type": "markdown",
   "id": "5d5364c6-15fd-4e33-954f-542ff3d3adee",
   "metadata": {},
   "source": [
    "# Question 4\n",
    "To do this there are few options (assuming windows OS)such as\n",
    "## Run directly in command prompt interactively\n",
    "Steps\n",
    "1. check if python is installed by typing python in command prompt, if yes it will show version and few other details.\n",
    "2. if yes, start typing python script as needed.\n",
    "\n",
    "## Using command line \n",
    "Steps\n",
    "\n",
    "1. use python prefix while typing command\n",
    "2. call the script saved in .py file after typing python\n",
    "for example <br>\n",
    "python test.py"
   ]
  },
  {
   "cell_type": "code",
   "execution_count": 7,
   "id": "7a1a36cd-c3cc-4adc-ae30-183ec27ec56a",
   "metadata": {},
   "outputs": [
    {
     "data": {
      "text/plain": [
       "'2.3'"
      ]
     },
     "execution_count": 7,
     "metadata": {},
     "output_type": "execute_result"
    }
   ],
   "source": [
    "b"
   ]
  },
  {
   "cell_type": "markdown",
   "id": "51f97ab7-baae-4976-a166-fea46490ac02",
   "metadata": {},
   "source": [
    "# Question 5"
   ]
  },
  {
   "cell_type": "code",
   "execution_count": 13,
   "id": "a760809b-ce0a-4fbe-8e81-32d23e1ee5ad",
   "metadata": {},
   "outputs": [],
   "source": [
    "my_list = [1,2,3,4,5]\n",
    "sub_list= my_list[1:3:1]"
   ]
  },
  {
   "cell_type": "markdown",
   "id": "a34874c5-ff37-435d-ba6c-e21251822bb1",
   "metadata": {},
   "source": [
    "# Question 6\n",
    "Complex number are defined as numbers which contains a real number and imaginary number.\n",
    "The definition in python is as defined below."
   ]
  },
  {
   "cell_type": "code",
   "execution_count": 15,
   "id": "fe930572-a46e-4e2d-ba17-9d5b6020b4f4",
   "metadata": {},
   "outputs": [],
   "source": [
    "# definition\n",
    "complex_num = 2+5j # 2 is real and 5j is imagniary in this denition\n"
   ]
  },
  {
   "cell_type": "markdown",
   "id": "81b2993d-5482-4d37-b9d1-64dc0c9202a5",
   "metadata": {},
   "source": [
    "# Question 7\n",
    "Declare the variable assign the falue for age. code line below\n"
   ]
  },
  {
   "cell_type": "code",
   "execution_count": 17,
   "id": "143d392c-3f6d-44df-9790-9a655cf8bb9a",
   "metadata": {},
   "outputs": [],
   "source": [
    "age=25"
   ]
  },
  {
   "cell_type": "markdown",
   "id": "6c2520bc-81d5-4f37-ac9a-13786bc03799",
   "metadata": {},
   "source": [
    "# Question 8"
   ]
  },
  {
   "cell_type": "code",
   "execution_count": 20,
   "id": "4a81c1cd-0104-48ca-9346-f89602266a5b",
   "metadata": {},
   "outputs": [
    {
     "data": {
      "text/plain": [
       "float"
      ]
     },
     "execution_count": 20,
     "metadata": {},
     "output_type": "execute_result"
    }
   ],
   "source": [
    "price =9.99\n",
    "type(price) # type of this varable is float."
   ]
  },
  {
   "cell_type": "markdown",
   "id": "02e3f04c-9060-4343-9e02-cf82b94078fe",
   "metadata": {},
   "source": [
    "# Question 9"
   ]
  },
  {
   "cell_type": "code",
   "execution_count": 21,
   "id": "01e9682d-bfa6-4287-bef9-f8fb56fdc918",
   "metadata": {},
   "outputs": [
    {
     "name": "stdout",
     "output_type": "stream",
     "text": [
      "kumar amar\n"
     ]
    }
   ],
   "source": [
    "name=\"kumar amar\"\n",
    "print(name) # command to print the variable"
   ]
  },
  {
   "cell_type": "markdown",
   "id": "0f27da3e-254d-44d0-81fe-7a816d9c72a5",
   "metadata": {},
   "source": [
    "# Question 10"
   ]
  },
  {
   "cell_type": "code",
   "execution_count": 25,
   "id": "823db71d-1e78-437f-9b2e-bf6b43a7645a",
   "metadata": {},
   "outputs": [],
   "source": [
    "str1=\"Hello, World!\"\n",
    "substr1=str1[7:12:1] # to derive substring \"world\""
   ]
  },
  {
   "cell_type": "markdown",
   "id": "7bbdaf67-0b3b-44ff-948f-349366071b1c",
   "metadata": {},
   "source": [
    "# Question 11"
   ]
  },
  {
   "cell_type": "code",
   "execution_count": 37,
   "id": "aa526cbd-473d-42f7-a8d6-3930007a0f82",
   "metadata": {},
   "outputs": [],
   "source": [
    "is_student = True #Defining the value of vaiable as True \n"
   ]
  }
 ],
 "metadata": {
  "kernelspec": {
   "display_name": "Python 3 (ipykernel)",
   "language": "python",
   "name": "python3"
  },
  "language_info": {
   "codemirror_mode": {
    "name": "ipython",
    "version": 3
   },
   "file_extension": ".py",
   "mimetype": "text/x-python",
   "name": "python",
   "nbconvert_exporter": "python",
   "pygments_lexer": "ipython3",
   "version": "3.10.8"
  }
 },
 "nbformat": 4,
 "nbformat_minor": 5
}
