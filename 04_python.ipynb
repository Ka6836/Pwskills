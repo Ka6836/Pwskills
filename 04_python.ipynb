{
 "cells": [
  {
   "cell_type": "markdown",
   "id": "0826d5ae-bc48-4be6-ba74-5bac7f00dcb9",
   "metadata": {},
   "source": [
    "# Question 1\n",
    "Sorting the list based on number of runs by the player"
   ]
  },
  {
   "cell_type": "code",
   "execution_count": 48,
   "id": "d63dfb5d-4cd6-41d2-9de4-bcc4f6061f1c",
   "metadata": {},
   "outputs": [],
   "source": [
    "list1=[(\"Sachin Tendulkar\",34357),(\"Ricky Ponting\",27483),(\"Jack Kallis\",25534),(\"Virat Kohli\",24936)]"
   ]
  },
  {
   "cell_type": "code",
   "execution_count": 49,
   "id": "44689ead-873a-4287-9a4e-bbf53da884e3",
   "metadata": {},
   "outputs": [
    {
     "data": {
      "text/plain": [
       "[('Virat Kohli', 24936),\n",
       " ('Jack Kallis', 25534),\n",
       " ('Ricky Ponting', 27483),\n",
       " ('Sachin Tendulkar', 34357)]"
      ]
     },
     "execution_count": 49,
     "metadata": {},
     "output_type": "execute_result"
    }
   ],
   "source": [
    "sorted(dict(list1).items(), key =lambda x:x[1])"
   ]
  },
  {
   "cell_type": "markdown",
   "id": "9169615d-0d0f-44ba-8935-2155c9b55c95",
   "metadata": {},
   "source": [
    "# Question 2"
   ]
  },
  {
   "cell_type": "code",
   "execution_count": 10,
   "id": "371bcaff-f4b2-4ab3-88af-f71f2b78a7a4",
   "metadata": {},
   "outputs": [
    {
     "data": {
      "text/plain": [
       "[1, 4, 9, 16, 25, 36, 49, 64, 81, 100]"
      ]
     },
     "execution_count": 10,
     "metadata": {},
     "output_type": "execute_result"
    }
   ],
   "source": [
    "# script to return square of a given list\n",
    "list2=[1,2,3,4,5,6,7,8,9,10]\n",
    "list(map(lambda x: x**2, list2))"
   ]
  },
  {
   "cell_type": "markdown",
   "id": "d5299eac-4989-4566-beb5-fb553cd53192",
   "metadata": {},
   "source": [
    "# Question 3"
   ]
  },
  {
   "cell_type": "code",
   "execution_count": 13,
   "id": "c9d4d994-d21e-47ca-b053-741477fa4389",
   "metadata": {},
   "outputs": [
    {
     "data": {
      "text/plain": [
       "('1', '2', '3', '4', '5', '6', '7', '8', '9', '10')"
      ]
     },
     "execution_count": 13,
     "metadata": {},
     "output_type": "execute_result"
    }
   ],
   "source": [
    "# script to return tuple of string from an integer list\n",
    "tuple(map(lambda x: str(x), list2))"
   ]
  },
  {
   "cell_type": "markdown",
   "id": "5a583b7b-7701-4957-b7e8-f7ab52197cba",
   "metadata": {},
   "source": [
    "# Question 4\n",
    "Code to compute the product of numbers in a given list"
   ]
  },
  {
   "cell_type": "code",
   "execution_count": 14,
   "id": "6fbe589e-c8a6-47f2-888d-f2f885aa6121",
   "metadata": {},
   "outputs": [],
   "source": [
    "list3 = [1,2,3,4,5,6,7,8,9,10,11,12,13,14,15,16,17,18,19,20,21,22,23,24,25]"
   ]
  },
  {
   "cell_type": "code",
   "execution_count": 21,
   "id": "be16e598-f8bf-4899-ab4a-3730c87aef2f",
   "metadata": {},
   "outputs": [],
   "source": [
    "from functools import reduce\n",
    "prod_lst= reduce(lambda x,y: x*y , list3)"
   ]
  },
  {
   "cell_type": "code",
   "execution_count": 22,
   "id": "0747564c-b346-42f2-8111-0642ec7bd43d",
   "metadata": {},
   "outputs": [
    {
     "data": {
      "text/plain": [
       "15511210043330985984000000"
      ]
     },
     "execution_count": 22,
     "metadata": {},
     "output_type": "execute_result"
    }
   ],
   "source": [
    "prod_lst"
   ]
  },
  {
   "cell_type": "markdown",
   "id": "6fac4b42-9b44-441c-a99e-d44bae7dd1d9",
   "metadata": {},
   "source": [
    "# Question 5\n",
    "filter even and odd number from a given list"
   ]
  },
  {
   "cell_type": "code",
   "execution_count": 25,
   "id": "b2eb4574-ed1c-4e32-8623-38e184d2cefc",
   "metadata": {},
   "outputs": [],
   "source": [
    "list5=[2,3,6,9,27,60,90,120,55,46]\n",
    "even_lst=list(filter(lambda x:x%2==0, list5))\n",
    "odd_lst=list(filter(lambda x:x%2!=0, list5))\n"
   ]
  },
  {
   "cell_type": "code",
   "execution_count": 26,
   "id": "6cb029b0-1376-4fb4-8d30-b151f0ce4018",
   "metadata": {},
   "outputs": [
    {
     "data": {
      "text/plain": [
       "[2, 6, 60, 90, 120, 46]"
      ]
     },
     "execution_count": 26,
     "metadata": {},
     "output_type": "execute_result"
    }
   ],
   "source": [
    "even_lst"
   ]
  },
  {
   "cell_type": "code",
   "execution_count": 28,
   "id": "3db4f534-3c86-4271-a934-eef067315dda",
   "metadata": {},
   "outputs": [
    {
     "data": {
      "text/plain": [
       "[3, 9, 27, 55]"
      ]
     },
     "execution_count": 28,
     "metadata": {},
     "output_type": "execute_result"
    }
   ],
   "source": [
    "odd_lst"
   ]
  },
  {
   "cell_type": "markdown",
   "id": "602a7cee-7a95-48fd-965b-b2aa6617dfdd",
   "metadata": {},
   "source": [
    "# Question 6\n",
    "Script to filter palindrome from a list"
   ]
  },
  {
   "cell_type": "code",
   "execution_count": 35,
   "id": "93b256d2-0f20-4d43-8253-c8e826df8932",
   "metadata": {},
   "outputs": [],
   "source": [
    "list6=[\"python\", \"php\",\"aba\",\"radar\",\"level\"]\n",
    "palind_filter=list(filter(lambda x: x == x[::-1], list6))"
   ]
  },
  {
   "cell_type": "code",
   "execution_count": 36,
   "id": "0f71e2e1-479c-444c-bb2f-154319c807e5",
   "metadata": {},
   "outputs": [
    {
     "data": {
      "text/plain": [
       "['php', 'aba', 'radar', 'level']"
      ]
     },
     "execution_count": 36,
     "metadata": {},
     "output_type": "execute_result"
    }
   ],
   "source": [
    "palind_filter"
   ]
  },
  {
   "cell_type": "code",
   "execution_count": null,
   "id": "aec9d008-ad55-457c-97ef-0668b836e30d",
   "metadata": {},
   "outputs": [],
   "source": []
  }
 ],
 "metadata": {
  "kernelspec": {
   "display_name": "Python 3 (ipykernel)",
   "language": "python",
   "name": "python3"
  },
  "language_info": {
   "codemirror_mode": {
    "name": "ipython",
    "version": 3
   },
   "file_extension": ".py",
   "mimetype": "text/x-python",
   "name": "python",
   "nbconvert_exporter": "python",
   "pygments_lexer": "ipython3",
   "version": "3.10.8"
  }
 },
 "nbformat": 4,
 "nbformat_minor": 5
}
