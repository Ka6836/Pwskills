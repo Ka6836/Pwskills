{
 "cells": [
  {
   "cell_type": "markdown",
   "id": "2d554a8d-db8b-42be-b38f-42f3d17fcfde",
   "metadata": {},
   "source": [
    "# Question 1\n",
    "A function is defined by using keyeord \"def\".\n"
   ]
  },
  {
   "cell_type": "code",
   "execution_count": 6,
   "id": "454919f9-b72f-4bec-8767-5ff79eaf2de2",
   "metadata": {},
   "outputs": [],
   "source": [
    "#Function that returns odd numbers between 1 and 25\n",
    "def ret_odd_num():\n",
    "    l=[]\n",
    "    for i in range(1,26):\n",
    "        if i%2 !=0:\n",
    "            l.append(i)\n",
    "    return l"
   ]
  },
  {
   "cell_type": "markdown",
   "id": "4dfd1f84-6ecb-4c30-8512-92dfba1e5d71",
   "metadata": {},
   "source": [
    "# Question 2\n",
    "While defining a function if the numbers of arguments that needs to passed is not sure then function can be defined with argument as *args which will allow defining the relevant number of arguments at runtime. Similarly **kwargs is used to define key-value arguments at runtime."
   ]
  },
  {
   "cell_type": "code",
   "execution_count": 11,
   "id": "64990f5a-2b02-4afe-80e5-a2a1c8306136",
   "metadata": {},
   "outputs": [],
   "source": [
    "#Function for *args\n",
    "def demo_args(*args):\n",
    "        return args"
   ]
  },
  {
   "cell_type": "code",
   "execution_count": 10,
   "id": "5d2570b2-a20c-4161-8cea-fd8bd46b673c",
   "metadata": {},
   "outputs": [
    {
     "data": {
      "text/plain": [
       "(1, 2, 4, 'msd', 'champ', 'ipl')"
      ]
     },
     "execution_count": 10,
     "metadata": {},
     "output_type": "execute_result"
    }
   ],
   "source": [
    "demo_args(1,2,4,\"msd\",\"champ\",\"ipl\")"
   ]
  },
  {
   "cell_type": "code",
   "execution_count": 12,
   "id": "ee728efd-6deb-42eb-b400-4307ae84b98f",
   "metadata": {},
   "outputs": [],
   "source": [
    "# Function for **kwargs\n",
    "def demo_keargs(**kwargs):\n",
    "    return kwargs"
   ]
  },
  {
   "cell_type": "code",
   "execution_count": 13,
   "id": "739273ba-2652-4ee6-b73a-3e02f51390f3",
   "metadata": {},
   "outputs": [
    {
     "data": {
      "text/plain": [
       "{'a': 4, 'b': 67, 'c': 'tyu'}"
      ]
     },
     "execution_count": 13,
     "metadata": {},
     "output_type": "execute_result"
    }
   ],
   "source": [
    "demo_keargs(a=4,b=67,c=\"tyu\")"
   ]
  },
  {
   "cell_type": "markdown",
   "id": "dd36ef65-a985-4d87-94ec-117d1df13764",
   "metadata": {},
   "source": [
    "# Question 3\n",
    "In python iterator is an object which is being used to iterate over iterable objects such as list, tuple, set etc.\n",
    "Method used to initialize iterator is \"iter()\".\n",
    "Method used for iteration is \"next()\"."
   ]
  },
  {
   "cell_type": "code",
   "execution_count": 5,
   "id": "82a1df29-c480-4b51-a517-8fecafaffc6e",
   "metadata": {},
   "outputs": [
    {
     "name": "stdout",
     "output_type": "stream",
     "text": [
      "2\n",
      "4\n",
      "6\n",
      "8\n",
      "10\n"
     ]
    }
   ],
   "source": [
    "# script for printing first five values\n",
    "list1 = [2,4,6,8,10,12,14,16,18,20]\n",
    "iter1 = iter(list1)\n",
    "for i in range(5):\n",
    "    print(next(iter1))\n",
    "    "
   ]
  },
  {
   "cell_type": "markdown",
   "id": "398615c0-8b2f-475d-83cf-78aed3c61490",
   "metadata": {},
   "source": [
    "# Question 4\n",
    "Generator functions are used in python to return objects which can genearte output based on the logic defined. These functions does not hold large number of values and generate an output on runtime which is extremely useful in optimizing memory while workin on large dataset.\n",
    "Yield keyword is key componenets of a generator function as that gives us the next generated value while calling these functions."
   ]
  },
  {
   "cell_type": "code",
   "execution_count": 54,
   "id": "fbc45b51-d722-457b-b503-78434b4d80cd",
   "metadata": {},
   "outputs": [],
   "source": [
    "# script to demonstrate a generator function\n",
    "def factorial(a):\n",
    "    n=1\n",
    "    for i in range(a):\n",
    "        n=n*(i+1)\n",
    "    yield n"
   ]
  },
  {
   "cell_type": "code",
   "execution_count": 57,
   "id": "67abb87a-0ef6-4306-98af-847bb54ab9c0",
   "metadata": {},
   "outputs": [
    {
     "name": "stdout",
     "output_type": "stream",
     "text": [
      "1\n"
     ]
    }
   ],
   "source": [
    "for i in factorial(0):\n",
    "    print(i)"
   ]
  },
  {
   "cell_type": "markdown",
   "id": "bada4256-9f78-4c23-aa57-71cef38fff19",
   "metadata": {},
   "source": [
    "# Question 5"
   ]
  },
  {
   "cell_type": "code",
   "execution_count": 17,
   "id": "2e236549-6961-44df-ae3c-498f98fc2916",
   "metadata": {},
   "outputs": [],
   "source": [
    "#Generator function for prime less than 1000\n",
    "def gen_prime(a):\n",
    "    if (a>1000):\n",
    "        print (\"This function is designed to work till 1000\")\n",
    "    else:\n",
    "        for i in range(2,a):\n",
    "            for j in range(2,i):\n",
    "                if i%j==0:\n",
    "                    break\n",
    "            else:\n",
    "                yield i"
   ]
  },
  {
   "cell_type": "code",
   "execution_count": 27,
   "id": "1ff21ef6-f9bb-43bc-9e4e-9f238f818a46",
   "metadata": {},
   "outputs": [
    {
     "name": "stdout",
     "output_type": "stream",
     "text": [
      "2\n",
      "3\n",
      "5\n",
      "7\n",
      "11\n",
      "13\n",
      "17\n",
      "19\n",
      "23\n",
      "29\n",
      "31\n",
      "37\n",
      "41\n",
      "43\n",
      "47\n",
      "53\n",
      "59\n",
      "61\n",
      "67\n",
      "71\n",
      "73\n"
     ]
    }
   ],
   "source": [
    "# print first 20 prime numbers\n",
    "a=iter(gen_prime(1000))\n",
    "for i in range(21):\n",
    "    print(next(a))"
   ]
  },
  {
   "cell_type": "code",
   "execution_count": null,
   "id": "0cad02bd-6abb-4bd0-9a77-301133d8556d",
   "metadata": {},
   "outputs": [],
   "source": []
  }
 ],
 "metadata": {
  "kernelspec": {
   "display_name": "Python 3 (ipykernel)",
   "language": "python",
   "name": "python3"
  },
  "language_info": {
   "codemirror_mode": {
    "name": "ipython",
    "version": 3
   },
   "file_extension": ".py",
   "mimetype": "text/x-python",
   "name": "python",
   "nbconvert_exporter": "python",
   "pygments_lexer": "ipython3",
   "version": "3.10.8"
  }
 },
 "nbformat": 4,
 "nbformat_minor": 5
}
