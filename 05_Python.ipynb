{
 "cells": [
  {
   "cell_type": "markdown",
   "id": "7e28e49d-e646-4bbc-8305-885a305bb004",
   "metadata": {},
   "source": [
    "# Question 1 \n",
    "A class is defined by user to create a blueprint for a any object. For example an object could be a vechile, a course etc. The properties of an object can be structured or prototypedby defining a class.\n"
   ]
  },
  {
   "cell_type": "code",
   "execution_count": 6,
   "id": "8ef7c151-fde2-4821-a84c-08c5123febfb",
   "metadata": {},
   "outputs": [],
   "source": [
    "class Vehicle :\n",
    "    def __init__( self, Make, Model, EngCapacity):\n",
    "        self.Make=Make\n",
    "        self.Model=Model\n",
    "        self.EngCapacity=EngCapacity"
   ]
  },
  {
   "cell_type": "code",
   "execution_count": 8,
   "id": "768e9b71-86b6-4fa2-9a81-5d443db39d40",
   "metadata": {},
   "outputs": [],
   "source": [
    "veh1 = Vehicle(\"Honda\", \"City\", 1500)"
   ]
  },
  {
   "cell_type": "markdown",
   "id": "512b74c0-6010-4ca2-9739-6b7e491cdd8a",
   "metadata": {},
   "source": [
    "# Question 2\n",
    "For pillars of OOPs\n",
    "## Polymorphism\n",
    "## Encapsulation \n",
    "## Inheritance\n",
    "## Abstraction\n"
   ]
  },
  {
   "cell_type": "markdown",
   "id": "1682140c-b57b-41a1-8bb6-4b0c7aed279d",
   "metadata": {},
   "source": [
    "# Question 3\n",
    "__init__ is known as constructoe in python and it is being used to initialize the variable of an object."
   ]
  },
  {
   "cell_type": "code",
   "execution_count": null,
   "id": "147ade8b-acf3-4d29-b2dd-1bd34cd4a911",
   "metadata": {},
   "outputs": [],
   "source": [
    "# In the class defined below for vehicle the __init__ is being used to initialze the attributes for vehicle.\n",
    "class Vehicle :\n",
    "    def __init__( self, Make, Model, EngCapacity):\n",
    "        self.Make=Make\n",
    "        self.Model=Model\n",
    "        self.EngCapacity=EngCapacity"
   ]
  },
  {
   "cell_type": "markdown",
   "id": "aeb65d16-0ab6-465c-bd9f-f82148040718",
   "metadata": {},
   "source": [
    "# Question 4\n",
    "Self is being used to repreesent an instance (object) of the given class. For example in the vehicle class above self represent an object and using the self keyword we are able to define the property of differnt attributes for the vehicle."
   ]
  },
  {
   "cell_type": "markdown",
   "id": "d209341b-0bac-4021-9dde-f0290ff707f2",
   "metadata": {},
   "source": [
    "# Question 5\n",
    "Inheritnace is a core concept of OOPs and using the properties of inheritance it is possible for a class to inherit the definition (methosds and attributes) of other class.\n"
   ]
  },
  {
   "cell_type": "code",
   "execution_count": 44,
   "id": "772d1915-29ed-47b4-89fc-08cd7b429d72",
   "metadata": {},
   "outputs": [],
   "source": [
    "# Single inheritance\n",
    "class parent1 :\n",
    "    def SI(self):\n",
    "        print(\"Single inheritance Parent\")\n",
    "class child1(parent1):\n",
    "    def CSI(self):\n",
    "        print(\"Single inheritance child\")"
   ]
  },
  {
   "cell_type": "code",
   "execution_count": 47,
   "id": "a717fce5-d7e6-4653-a6d8-a7d634b2fae3",
   "metadata": {},
   "outputs": [
    {
     "name": "stdout",
     "output_type": "stream",
     "text": [
      "Single inheritance child\n",
      "Single inheritance Parent\n"
     ]
    }
   ],
   "source": [
    "ch1 = child1()\n",
    "ch1.CSI()\n",
    "ch1.SI()"
   ]
  },
  {
   "cell_type": "code",
   "execution_count": 52,
   "id": "d6f870f2-24bc-4df4-8887-3672e790941a",
   "metadata": {},
   "outputs": [],
   "source": [
    "# Multiple Inheritance\n",
    "class parent2 :\n",
    "    def func1(self):\n",
    "        print (\"parent 2\")\n",
    "class parent3 :\n",
    "    def func2(self):\n",
    "        print (\"parent 3\")\n",
    "class child2(parent2, parent3) :\n",
    "    def func3(self):\n",
    "        print (\"child 2\")"
   ]
  },
  {
   "cell_type": "code",
   "execution_count": 54,
   "id": "ffe09244-2df7-4739-9acd-6312332cbde1",
   "metadata": {},
   "outputs": [
    {
     "name": "stdout",
     "output_type": "stream",
     "text": [
      "parent 2\n",
      "parent 3\n",
      "child 2\n"
     ]
    }
   ],
   "source": [
    "ch2 =child2()\n",
    "ch2.func1()\n",
    "ch2.func2()\n",
    "ch2.func3()"
   ]
  },
  {
   "cell_type": "code",
   "execution_count": 61,
   "id": "01567ea9-be28-4a67-b2cc-21e75951a162",
   "metadata": {},
   "outputs": [],
   "source": [
    "# Multilevel Inheritance :\n",
    "class parent4 :\n",
    "    def func4(self):\n",
    "        print (\"parent 4\")\n",
    "class child3(parent4) :\n",
    "    def func5(self):\n",
    "        print (\"child 3\")\n",
    "class child4(child3) :\n",
    "    def func6(self):\n",
    "        print (\"child 4\")"
   ]
  },
  {
   "cell_type": "code",
   "execution_count": 62,
   "id": "66ea0e39-6f2c-4fee-8925-e9b22dc1612f",
   "metadata": {},
   "outputs": [
    {
     "name": "stdout",
     "output_type": "stream",
     "text": [
      "parent 4\n",
      "child 3\n",
      "child 4\n"
     ]
    }
   ],
   "source": [
    "ch4 =child4()\n",
    "ch4.func4()\n",
    "ch4.func5()\n",
    "ch4.func6()"
   ]
  },
  {
   "cell_type": "code",
   "execution_count": 63,
   "id": "9d042f0c-20d2-4838-825e-b5cc9499248d",
   "metadata": {},
   "outputs": [],
   "source": [
    "#Hierarchical Inheritance: \n",
    "class parent5 :\n",
    "    def func4(self):\n",
    "        print (\"parent 5\")\n",
    "class child5(parent4) :\n",
    "    def func5(self):\n",
    "        print (\"child 5\")\n",
    "class child6(parent4) :\n",
    "    def func6(self):\n",
    "        print (\"child 6\")"
   ]
  },
  {
   "cell_type": "code",
   "execution_count": 64,
   "id": "c66cf95a-b6b0-4d5c-870b-4a48de407446",
   "metadata": {},
   "outputs": [
    {
     "name": "stdout",
     "output_type": "stream",
     "text": [
      "parent 4\n",
      "child 5\n",
      "child 6\n",
      "parent 4\n"
     ]
    }
   ],
   "source": [
    "ch5= child5()\n",
    "ch6= child6()\n",
    "ch5.func4()\n",
    "ch5.func5()\n",
    "ch6.func6()\n",
    "ch6.func4()"
   ]
  },
  {
   "cell_type": "code",
   "execution_count": 5,
   "id": "1c1a70cf-03b3-46f4-a489-edbc52673e25",
   "metadata": {},
   "outputs": [],
   "source": [
    "# Hybrid Inheritance: \n",
    "class parent6 :\n",
    "    def func7(self):\n",
    "        print (\"parent 6\")\n",
    "class parent7() :\n",
    "    def func8(self):\n",
    "        print (\"parent 7\")\n",
    "class child67(parent6,parent7) :\n",
    "    def func9(self):\n",
    "        print (\"child 67\")\n",
    "class child7(parent7) :\n",
    "    def func10(self):\n",
    "        print (\"child 7\") \n",
    "class child71(child7) :\n",
    "    def func11(self):\n",
    "        print (\"child 71\") \n",
    "class child72(child7) :\n",
    "    def func12(self):\n",
    "        print (\"child 72\") "
   ]
  },
  {
   "cell_type": "code",
   "execution_count": 7,
   "id": "60b36160-5069-4f70-879b-2ec7c3d72cff",
   "metadata": {},
   "outputs": [
    {
     "name": "stdout",
     "output_type": "stream",
     "text": [
      "parent 6\n",
      "parent 7\n",
      "child 67\n",
      "parent 7\n",
      "child 7\n",
      "parent 7\n",
      "child 7\n",
      "child 71\n"
     ]
    }
   ],
   "source": [
    "ch67=child67()\n",
    "ch67.func7()\n",
    "ch67.func8()\n",
    "ch67.func9()\n",
    "ch7=child7()\n",
    "ch7.func8()\n",
    "ch7.func10()\n",
    "ch71=child71()\n",
    "ch71.func8()\n",
    "ch71.func10()\n",
    "ch71.func11()\n"
   ]
  }
 ],
 "metadata": {
  "kernelspec": {
   "display_name": "Python 3 (ipykernel)",
   "language": "python",
   "name": "python3"
  },
  "language_info": {
   "codemirror_mode": {
    "name": "ipython",
    "version": 3
   },
   "file_extension": ".py",
   "mimetype": "text/x-python",
   "name": "python",
   "nbconvert_exporter": "python",
   "pygments_lexer": "ipython3",
   "version": "3.10.8"
  }
 },
 "nbformat": 4,
 "nbformat_minor": 5
}
