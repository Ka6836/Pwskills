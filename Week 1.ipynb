{
 "cells": [
  {
   "cell_type": "code",
   "execution_count": 2,
   "id": "1a751659-9a80-4265-82e7-69031dbf31df",
   "metadata": {},
   "outputs": [
    {
     "data": {
      "text/plain": [
       "'\\nQuestion 1\\ni) a=\"Hello world\"\\nii) b= [1, \"rat\", 6.7, 7+6J]\\niii) c= 8.9\\niv) d=(1, \"rat\", 6.7)\\n'"
      ]
     },
     "execution_count": 2,
     "metadata": {},
     "output_type": "execute_result"
    }
   ],
   "source": [
    "\"\"\"\n",
    "Question 1\n",
    "\"\"\""
   ]
  },
  {
   "cell_type": "code",
   "execution_count": 1,
   "id": "6805db4f-38f9-4dc2-8b84-918d2ee2af9a",
   "metadata": {},
   "outputs": [],
   "source": [
    "a=\"Hello world\";\n",
    "b= [1, \"rat\", 6.7, 7+6J]\n",
    "c= 8.9\n",
    "d=(1, \"rat\", 6.7)"
   ]
  },
  {
   "cell_type": "code",
   "execution_count": 3,
   "id": "c82f719e-bb65-4024-8c58-70cc7e5698e3",
   "metadata": {},
   "outputs": [],
   "source": [
    "# question 2"
   ]
  },
  {
   "cell_type": "code",
   "execution_count": 4,
   "id": "b07cf7fc-7489-4817-9c56-f863315deaea",
   "metadata": {},
   "outputs": [
    {
     "data": {
      "text/plain": [
       "' var1 = string\\nvar 2= string\\nvar 3 = list\\nvar 4 = integer'"
      ]
     },
     "execution_count": 4,
     "metadata": {},
     "output_type": "execute_result"
    }
   ],
   "source": [
    "\"\"\" var1 = string\n",
    "var2= string\n",
    "var3 = list\n",
    "var4 = float\n",
    "\"\"\""
   ]
  },
  {
   "cell_type": "code",
   "execution_count": 10,
   "id": "3879331a-e98e-4368-8434-ab16b3b096a4",
   "metadata": {},
   "outputs": [],
   "source": [
    "#question 3"
   ]
  },
  {
   "cell_type": "code",
   "execution_count": 11,
   "id": "d4c9446c-76b0-4213-b607-2fa41e978e34",
   "metadata": {},
   "outputs": [],
   "source": [
    "#Division operator 4/2=2"
   ]
  },
  {
   "cell_type": "code",
   "execution_count": 12,
   "id": "30ff74cd-4182-41b4-96a6-dbd259171846",
   "metadata": {},
   "outputs": [
    {
     "data": {
      "text/plain": [
       "2.0"
      ]
     },
     "execution_count": 12,
     "metadata": {},
     "output_type": "execute_result"
    }
   ],
   "source": [
    "4/2"
   ]
  },
  {
   "cell_type": "code",
   "execution_count": 14,
   "id": "d57f9382-8116-45d8-b711-a46ef6971b5a",
   "metadata": {},
   "outputs": [],
   "source": [
    "#modulus  5%3=2"
   ]
  },
  {
   "cell_type": "code",
   "execution_count": 15,
   "id": "2165ecf2-4437-47f4-8ad7-e2232766e376",
   "metadata": {},
   "outputs": [
    {
     "data": {
      "text/plain": [
       "2"
      ]
     },
     "execution_count": 15,
     "metadata": {},
     "output_type": "execute_result"
    }
   ],
   "source": [
    "5%3"
   ]
  },
  {
   "cell_type": "code",
   "execution_count": 16,
   "id": "30da6845-5668-4512-9a04-a379cf35a603",
   "metadata": {},
   "outputs": [],
   "source": [
    "# floor operator 8//3=2"
   ]
  },
  {
   "cell_type": "code",
   "execution_count": 17,
   "id": "b8742db4-3c63-4d6e-9726-d5a87f1f7053",
   "metadata": {},
   "outputs": [
    {
     "data": {
      "text/plain": [
       "2"
      ]
     },
     "execution_count": 17,
     "metadata": {},
     "output_type": "execute_result"
    }
   ],
   "source": [
    "8//3"
   ]
  },
  {
   "cell_type": "code",
   "execution_count": 18,
   "id": "2e1df360-dfa0-46ed-aef3-7bea01216a4d",
   "metadata": {},
   "outputs": [],
   "source": [
    "# power 3**3=27"
   ]
  },
  {
   "cell_type": "code",
   "execution_count": 19,
   "id": "83f2f9d8-561b-4130-bf40-3af542491c13",
   "metadata": {},
   "outputs": [
    {
     "data": {
      "text/plain": [
       "27"
      ]
     },
     "execution_count": 19,
     "metadata": {},
     "output_type": "execute_result"
    }
   ],
   "source": [
    "3**3"
   ]
  },
  {
   "cell_type": "code",
   "execution_count": 20,
   "id": "d8513558-02fa-4212-9232-20f35ebed3ea",
   "metadata": {},
   "outputs": [],
   "source": [
    "#question 4"
   ]
  },
  {
   "cell_type": "code",
   "execution_count": 30,
   "id": "bca6447f-327f-488a-801e-26f0b571a540",
   "metadata": {},
   "outputs": [],
   "source": [
    "list1=[1,2,3,4,5,6.7,8.9,'JMD',7+8j,(1,2,3)]"
   ]
  },
  {
   "cell_type": "code",
   "execution_count": 33,
   "id": "9707455c-c9a4-469f-9458-ec07d707bb3e",
   "metadata": {},
   "outputs": [
    {
     "name": "stdout",
     "output_type": "stream",
     "text": [
      "<class 'int'>\n",
      "<class 'int'>\n",
      "<class 'int'>\n",
      "<class 'int'>\n",
      "<class 'int'>\n",
      "<class 'float'>\n",
      "<class 'float'>\n",
      "<class 'str'>\n",
      "<class 'complex'>\n",
      "<class 'tuple'>\n"
     ]
    }
   ],
   "source": [
    "for i in list1:\n",
    "    print(type(i))\n",
    "    "
   ]
  },
  {
   "cell_type": "code",
   "execution_count": 18,
   "id": "81e50634-cbe2-4778-baa9-4ff2cf97f4b1",
   "metadata": {},
   "outputs": [
    {
     "name": "stdin",
     "output_type": "stream",
     "text": [
      "ENTER A 9\n",
      "ENTER B 3\n"
     ]
    },
    {
     "name": "stdout",
     "output_type": "stream",
     "text": [
      "2\n"
     ]
    }
   ],
   "source": [
    "#question 5\n",
    "i=1\n",
    "A=int(input(\"ENTER A\"))\n",
    "B=int(input(\"ENTER B\"))\n",
    "if(A%B==0):\n",
    "    while (A%B==0):\n",
    "        A=A/B\n",
    "        i=i+1\n",
    "    print(i-1)\n",
    "else:\n",
    "    print ('not divisible')"
   ]
  },
  {
   "cell_type": "code",
   "execution_count": 15,
   "id": "f49712e3-c34d-493d-bf01-5dd90e75f5eb",
   "metadata": {},
   "outputs": [
    {
     "name": "stdout",
     "output_type": "stream",
     "text": [
      "1 is not divisbible\n",
      "2 is not divisbible\n",
      "3 is divisbible\n",
      "4 is not divisbible\n",
      "5 is not divisbible\n",
      "6 is divisbible\n",
      "7 is not divisbible\n",
      "8 is not divisbible\n",
      "9 is divisbible\n",
      "10 is not divisbible\n",
      "11 is not divisbible\n",
      "12 is divisbible\n",
      "13 is not divisbible\n",
      "14 is not divisbible\n",
      "15 is divisbible\n",
      "16 is not divisbible\n",
      "17 is not divisbible\n",
      "18 is divisbible\n",
      "19 is not divisbible\n",
      "20 is not divisbible\n",
      "21 is divisbible\n",
      "22 is not divisbible\n",
      "23 is not divisbible\n",
      "24 is divisbible\n",
      "25 is not divisbible\n"
     ]
    }
   ],
   "source": [
    "#question 6\n",
    "list2=[1,2,3,4,5,6,7,8,9,10,11,12,13,14,15,16,17,18,19,20,21,22,23,24,25]\n",
    "for i in list2:\n",
    "    if ((list2[i-1]%3==0)):\n",
    "        print(str(list2[i-1])+\" is divisbible\")\n",
    "    else:\n",
    "        print(str(list2[i-1])+\" is not divisbible\")"
   ]
  },
  {
   "cell_type": "code",
   "execution_count": 19,
   "id": "def9a716-124a-417c-a5e1-56acef47791d",
   "metadata": {},
   "outputs": [],
   "source": [
    "#Question 7\n",
    "\"\"\"\n",
    "Mutuable data type: A list is mutable variable which means we can modify the elements of list after definition.\n",
    "immutable data type : A tuple or a string datatypes are immutable as it the emlements of tuple or string can,t be modified post definition.\n",
    "\"\"\"\n",
    "list3 = [1,2,5]\n",
    "list3[2]=13\n",
    "# the operation shown above is possible\n",
    "tuple1=(1,2,5)\n",
    "#tuple1[1]=45\n",
    "# the operation commented above will not modify the tuple, hence immutable\n"
   ]
  },
  {
   "cell_type": "code",
   "execution_count": 21,
   "id": "63d1fcc6-ee32-4499-a790-adba95236624",
   "metadata": {},
   "outputs": [
    {
     "data": {
      "text/plain": [
       "[1, 2, 13]"
      ]
     },
     "execution_count": 21,
     "metadata": {},
     "output_type": "execute_result"
    }
   ],
   "source": [
    "list3"
   ]
  },
  {
   "cell_type": "code",
   "execution_count": null,
   "id": "31fd3403-36f1-4c54-8ae2-2f6c4f1c2240",
   "metadata": {},
   "outputs": [],
   "source": []
  }
 ],
 "metadata": {
  "kernelspec": {
   "display_name": "Python 3 (ipykernel)",
   "language": "python",
   "name": "python3"
  },
  "language_info": {
   "codemirror_mode": {
    "name": "ipython",
    "version": 3
   },
   "file_extension": ".py",
   "mimetype": "text/x-python",
   "name": "python",
   "nbconvert_exporter": "python",
   "pygments_lexer": "ipython3",
   "version": "3.10.8"
  }
 },
 "nbformat": 4,
 "nbformat_minor": 5
}
